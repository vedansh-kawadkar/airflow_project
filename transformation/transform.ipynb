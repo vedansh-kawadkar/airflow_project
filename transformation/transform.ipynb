{
 "cells": [
  {
   "cell_type": "markdown",
   "id": "798e00e6",
   "metadata": {},
   "source": [
    "# Transforming Data "
   ]
  },
  {
   "cell_type": "markdown",
   "id": "6fc8feba",
   "metadata": {},
   "source": []
  }
 ],
 "metadata": {
  "language_info": {
   "name": "python"
  }
 },
 "nbformat": 4,
 "nbformat_minor": 5
}
