{
 "cells": [
  {
   "cell_type": "markdown",
   "id": "54dc3478",
   "metadata": {},
   "source": [
    "# Cleaning input raw data"
   ]
  },
  {
   "cell_type": "code",
   "execution_count": 1,
   "id": "58d3e9c8",
   "metadata": {},
   "outputs": [],
   "source": [
    "from pyspark.sql import SparkSession\n",
    "from pyspark.sql.functions import *\n",
    "from pyspark.sql.window import Window\n",
    "from dateutil import parser\n",
    "from pyspark.sql.functions import udf\n",
    "from pyspark.sql.types import DateType, StringType"
   ]
  },
  {
   "cell_type": "code",
   "execution_count": 2,
   "id": "bbcb0e39",
   "metadata": {},
   "outputs": [
    {
     "data": {
      "text/html": [
       "\n",
       "            <div>\n",
       "                <p><b>SparkSession - in-memory</b></p>\n",
       "                \n",
       "        <div>\n",
       "            <p><b>SparkContext</b></p>\n",
       "\n",
       "            <p><a href=\"http://V:4040\">Spark UI</a></p>\n",
       "\n",
       "            <dl>\n",
       "              <dt>Version</dt>\n",
       "                <dd><code>v3.5.3</code></dd>\n",
       "              <dt>Master</dt>\n",
       "                <dd><code>local[*]</code></dd>\n",
       "              <dt>AppName</dt>\n",
       "                <dd><code>Data Cleaning</code></dd>\n",
       "            </dl>\n",
       "        </div>\n",
       "        \n",
       "            </div>\n",
       "        "
      ],
      "text/plain": [
       "<pyspark.sql.session.SparkSession at 0x2b4e08fffa0>"
      ]
     },
     "execution_count": 2,
     "metadata": {},
     "output_type": "execute_result"
    }
   ],
   "source": [
    "spark = SparkSession.builder.appName(\"Data Cleaning\").master(\"local[*]\").getOrCreate()\n",
    "spark"
   ]
  },
  {
   "cell_type": "code",
   "execution_count": 3,
   "id": "d48957d7",
   "metadata": {},
   "outputs": [
    {
     "name": "stdout",
     "output_type": "stream",
     "text": [
      "+--------------------+----------------+----------+------------+-------------+-----------+--------------------+-------------------+------------------+--------------+------------+---------------+--------------------------+-------------+--------------+----------+--------------------+----------------+-------------------+-------------+------------+------------------+------------+-------------------+---------------+-----------------+----------------+----------+----------+---------------+----------------+-----------+-----------------+--------------+--------------+----------------+----------------------+----------------------+-------------+--------------+------------+----------------+---------------+\n",
      "|            order_id|      order_date|order_time|order_status|shipping_cost|customer_id|      customer_email|customer_first_name|customer_last_name|customer_phone|customer_age|customer_gender|customer_registration_date|customer_city|customer_state|product_id|        product_name|product_category|product_subcategory|product_brand|product_cost|product_list_price|warehouse_id|     warehouse_city|warehouse_state|warehouse_country|quantity_ordered|unit_price|line_total|discount_amount|discount_percent|coupon_code|   payment_method|payment_status|order_returned|payment_refunded|shipping_address_line1|shipping_address_line2|shipping_city|shipping_state|shipping_zip|shipping_country|shipping_method|\n",
      "+--------------------+----------------+----------+------------+-------------+-----------+--------------------+-------------------+------------------+--------------+------------+---------------+--------------------------+-------------+--------------+----------+--------------------+----------------+-------------------+-------------+------------+------------------+------------+-------------------+---------------+-----------------+----------------+----------+----------+---------------+----------------+-----------+-----------------+--------------+--------------+----------------+----------------------+----------------------+-------------+--------------+------------+----------------+---------------+\n",
      "|010dd81f-e2ba-452...|      2024/02/28|  21:55:59|     pending|          1.6|  CUST_0497|christopher.campb...|        Christopher|          Campbell|(399) 606-1618|          31|              M|              Nov 13, 2021|       Boston|            MA|   PRD_493|        Nestle Spice|       Groceries|             Spices|       Nestle|        4.75|               6.5|      WH_021|            Phoenix|             AZ|               US|               6|      6.89|     41.34|          38.65|            14.1|  SAVE49   |      credit_card|       pending|         false|           false|           452 Main St|               Apt 602|       Boston|            MA|       02102|              US|      overnight|\n",
      "|9f42a6f8-1ee8-418...|     05-Feb-2024|  07:30:19|     pending|         7.35|  CUST_0400|joseph.roberts@gm...|             Joseph|           Roberts|  456.317.3236|          47|              F|          October 28, 2022|    Charlotte|            NC|   PRD_250|Nivea Skincare De...|      Healthcare|           Skincare|        Nivea|       53.78|             76.87|      WH_018|            Houston|             TX|               US|              10|     65.21|     652.1|           7.43|            23.6|     SAVE32|       debit_card|       pending|            no|               0|          1742 Park Rd|   Apt 738|Apt 738_alt|    Charlotte|            NC|       28201|              US|       standard|\n",
      "|f6394362-2d73-469...|    Jan 15, 2024|  22:02:32|   cancelled|         3.59|  CUST_0852|paul.johnson@gmai...|               Paul|           Johnson|  +18869668606|          25|              F|          06 November 2021|      Phoenix|            AZ|   PRD_389|Under Armour Nutr...|          Sports|          Nutrition| Under Armour|        60.6|             94.24|      WH_021|Phoenix|Phoenix_alt|             AZ|               US|               7|     81.59|    571.13|          21.87|         8.6.0.0|     SAVEy1|        apple_pay|        failed|       pending|         pending|         3006 First St|             Apt 134  |      Phoenix|            AZ|       85005|              US|       standard|\n",
      "|b6a1e3c9-f931-440...|     25-Mar-2024|  16:51:36|     pending|         6.92|  CUST_0498|christopher.mitch...|        Christopher|          Mitchell|    6722692352|          48|          Other|           15 October 2022|    Baltimore|            MD|   PRD_464|Tyson Canned Good...|       Groceries|       Canned Goods|        Tyson|        6.71|              10.9|      WH_044|             Dallas|             TX|               US|               3|     11.41|     34.23|          31.32|            20.5|     SAVE21|      credit_card|       pending|            no|               0|          2511 Oak Ave|               Apt 280|    Baltimore|            MD|       21210|              US|        express|\n",
      "|5f91996f-564d-4eb...|January 03, 2024|  19:09:07|     shipped|         7.89|  CUST_0828|steven.ramirez@gm...|             Steven|           Ramirez|  872-448-8171|          40|          Other|                2021-10-02|  New York   |            NY|   PRD_045| Samsung Tablet Mini|     Electronics|            Tablets|      Samsung|      409.94|            614.06|      WH_005|           New York|             NY|               US|               2|    562.22|   1124.44|           19.0|             8.7|       NULL|      credit_card|       success|             0|               0|          1426 Main St|               Apt 959|       Denver|            CO|       42779|              US|      overnight|\n",
      "|9671afd1-ba57-412...|    Jan 09, 2024|  14:11:10|   delivered|         1.43|  CUST_0156|michael.garcia@gm...|            Michael|            Garcia|  682-485-3643|          76|              M|                2022/02/27|     San Jose|            CA|   PRD_244|Cetaphil Medical ...|      Healthcare|    Medical Devices|     Cetaphil|       31.55|             44.15|      WH_006|        Los Angeles|             CA|               US|               7|     45.51|    318.57|          35.68|            21.3|     SAVE38|paypal|paypal_alt|          NULL|       pending|         pending|          7542 Main St|                Apt 59|     San Jose|            CA|       95110|              US|        express|\n",
      "|a4945d17-93be-42b...|      2024/01/05|  06:08:02|     pending|         8.76|  CUST_0458|christopher.davis...|        Christopher|             Davis|  218-821-2646|          76|              F|                2021/09/09|      Seattle|            WA|   PRD_130| asics dresse deluxe|         Apparel|            Dresses|        Asics|       42.29|             73.63|      WH_035|        San Antonio|             TX|               US|               6|     64.08|    384.48|     24.85ERROR|            23.4|       NULL|       google_pay|        failed|            no|              no|          1468 Park Rd|                  NULL|      Seattle|            WA|       98104|              US|    overnight  |\n",
      "|fee6c779-ae22-458...| 07 January 2024|  21:27:12|     pending|         2.59|  CUST_1222|timothy.perez@gma...|            Timothy|             Perez|  +15013279759|          63|              F|               08-May-2022|      Seattle|            WA|   PRD_279|Neutrogena Baby C...|      Healthcare|          Baby Care|   Neutrogena|       121.8|            198.95|      WH_048|           San Jose|             CA|               US|               7|    235.19|      NULL|           NULL|            24.7|     SAVE12|       debit_card|       pending|          true|               1|          439 Maple St|               apt 499|      Seattle|            WA|       98110|              US|        express|\n",
      "|e478aa57-e014-403...|     21-Feb-2024|  20:09:53|   delivered|          5.1|  CUST_0088|robert.nguyen@gma...|             Robert|            Nguyen|  372.279.1183|     43ERROR|          Other|        September 05, 2021|       Dallas|            TX|   PRD_048|     Sony Tablet Pro|     Electronics|            Tablets|         Sony|      151.63|             264.9|      WH_035|        San Antonio|             TX|               US|               3|    231.75|    695.25|          40.19|            22.0|   SAVE39  |           paypal|       success|             0|               0|         3788 Maple St|               Apt 125|       Dallas|            TX|       75201|              US|        express|\n",
      "|5c90d55b-981d-439...|    Feb 26, 2024|  10:58:46|     pending|         1.88|  CUST_1033|joshua.allen@gmai...|             Joshua|             Allen|  357-651-6866|          36|              M|              Nov 12, 2021|      Phoenix|            AZ|   PRD_043|     Sony Tablet Pro|     Electronics|            tablets|         Sony|      130.95|            200.71|      WH_040|          San Diego|             CA|               US|               7|    240.44|   1683.08|          22.26|            21.1|      SAVE5|        apple_pay|       pending|             1|               1|          6462 Oak Ave|               Apt 206|      Phoenix|            AZ|       85003|              US|      overnight|\n",
      "+--------------------+----------------+----------+------------+-------------+-----------+--------------------+-------------------+------------------+--------------+------------+---------------+--------------------------+-------------+--------------+----------+--------------------+----------------+-------------------+-------------+------------+------------------+------------+-------------------+---------------+-----------------+----------------+----------+----------+---------------+----------------+-----------+-----------------+--------------+--------------+----------------+----------------------+----------------------+-------------+--------------+------------+----------------+---------------+\n",
      "only showing top 10 rows\n",
      "\n"
     ]
    }
   ],
   "source": [
    "input_df = spark.read.option(\"header\", \"true\").option(\"inferSchema\", \"true\").format(\"csv\").load(\"../input/messy_ecommerce_1K.csv\")\n",
    "input_df.show(10)"
   ]
  },
  {
   "cell_type": "code",
   "execution_count": 4,
   "id": "6103cd4a",
   "metadata": {},
   "outputs": [
    {
     "name": "stdout",
     "output_type": "stream",
     "text": [
      "Number of rows: 1000\n",
      "Number of columns: 43\n",
      "Column names: ['order_id', 'order_date', 'order_time', 'order_status', 'shipping_cost', 'customer_id', 'customer_email', 'customer_first_name', 'customer_last_name', 'customer_phone', 'customer_age', 'customer_gender', 'customer_registration_date', 'customer_city', 'customer_state', 'product_id', 'product_name', 'product_category', 'product_subcategory', 'product_brand', 'product_cost', 'product_list_price', 'warehouse_id', 'warehouse_city', 'warehouse_state', 'warehouse_country', 'quantity_ordered', 'unit_price', 'line_total', 'discount_amount', 'discount_percent', 'coupon_code', 'payment_method', 'payment_status', 'order_returned', 'payment_refunded', 'shipping_address_line1', 'shipping_address_line2', 'shipping_city', 'shipping_state', 'shipping_zip', 'shipping_country', 'shipping_method']\n"
     ]
    }
   ],
   "source": [
    "print(f\"Number of rows: {input_df.count()}\")\n",
    "print(f\"Number of columns: {len(input_df.columns)}\")\n",
    "print(f\"Column names: {input_df.columns}\")"
   ]
  },
  {
   "cell_type": "markdown",
   "id": "8adb60b4",
   "metadata": {},
   "source": [
    "### Cleaning order status"
   ]
  },
  {
   "cell_type": "code",
   "execution_count": 5,
   "id": "fdc99224",
   "metadata": {},
   "outputs": [
    {
     "name": "stdout",
     "output_type": "stream",
     "text": [
      "['delivered   ', 'pending|pending_alt', 'cancelled   ', 'deliveryd', 'shipped', '  cancelled  ', '  pending  ', 'cancelled', 'shipped|shipped_alt', 'pxnding', 'p3nding', 'shipped   ', 'DELIVERED', 'p#nding', 'p@nding', 'CANCELLED', 'delivered', 'pending', 'cancexled', 'caycelled', 'shippxd', 'delivered|delivered_alt', 'pending   ', 'PENDING', 'SHIPPED', 'cancellzd', None]\n",
      "['success', 'failed', 'pending']\n",
      "+--------------------+-----------------+--------------------+-------------+-----------+--------------------+-------------------+------------------+--------------+------------+---------------+--------------------------+-------------+--------------+----------+--------------------+----------------+-------------------+--------------+------------+------------------+------------+-------------------+---------------+-----------------+----------------+----------+----------+---------------+----------------+-----------+-----------------+--------------+--------------+----------------+----------------------+----------------------+-------------+--------------+------------+----------------+---------------+--------------------+\n",
      "|            order_id|       order_date|          order_time|shipping_cost|customer_id|      customer_email|customer_first_name|customer_last_name|customer_phone|customer_age|customer_gender|customer_registration_date|customer_city|customer_state|product_id|        product_name|product_category|product_subcategory| product_brand|product_cost|product_list_price|warehouse_id|     warehouse_city|warehouse_state|warehouse_country|quantity_ordered|unit_price|line_total|discount_amount|discount_percent|coupon_code|   payment_method|payment_status|order_returned|payment_refunded|shipping_address_line1|shipping_address_line2|shipping_city|shipping_state|shipping_zip|shipping_country|shipping_method|order_status_cleaned|\n",
      "+--------------------+-----------------+--------------------+-------------+-----------+--------------------+-------------------+------------------+--------------+------------+---------------+--------------------------+-------------+--------------+----------+--------------------+----------------+-------------------+--------------+------------+------------------+------------+-------------------+---------------+-----------------+----------------+----------+----------+---------------+----------------+-----------+-----------------+--------------+--------------+----------------+----------------------+----------------------+-------------+--------------+------------+----------------+---------------+--------------------+\n",
      "|010dd81f-e2ba-452...|       2024/02/28|            21:55:59|          1.6|  CUST_0497|christopher.campb...|        Christopher|          Campbell|(399) 606-1618|          31|              M|              Nov 13, 2021|       Boston|            MA|   PRD_493|        Nestle Spice|       Groceries|             Spices|        Nestle|        4.75|               6.5|      WH_021|            Phoenix|             AZ|               US|               6|      6.89|     41.34|          38.65|            14.1|  SAVE49   |      credit_card|       pending|         false|           false|           452 Main St|               Apt 602|       Boston|            MA|       02102|              US|      overnight|             pending|\n",
      "|9f42a6f8-1ee8-418...|      05-Feb-2024|            07:30:19|         7.35|  CUST_0400|joseph.roberts@gm...|             Joseph|           Roberts|  456.317.3236|          47|              F|          October 28, 2022|    Charlotte|            NC|   PRD_250|Nivea Skincare De...|      Healthcare|           Skincare|         Nivea|       53.78|             76.87|      WH_018|            Houston|             TX|               US|              10|     65.21|     652.1|           7.43|            23.6|     SAVE32|       debit_card|       pending|            no|               0|          1742 Park Rd|   Apt 738|Apt 738_alt|    Charlotte|            NC|       28201|              US|       standard|             pending|\n",
      "|f6394362-2d73-469...|     Jan 15, 2024|            22:02:32|         3.59|  CUST_0852|paul.johnson@gmai...|               Paul|           Johnson|  +18869668606|          25|              F|          06 November 2021|      Phoenix|            AZ|   PRD_389|Under Armour Nutr...|          Sports|          Nutrition|  Under Armour|        60.6|             94.24|      WH_021|Phoenix|Phoenix_alt|             AZ|               US|               7|     81.59|    571.13|          21.87|         8.6.0.0|     SAVEy1|        apple_pay|        failed|       pending|         pending|         3006 First St|             Apt 134  |      Phoenix|            AZ|       85005|              US|       standard|              failed|\n",
      "|b6a1e3c9-f931-440...|      25-Mar-2024|            16:51:36|         6.92|  CUST_0498|christopher.mitch...|        Christopher|          Mitchell|    6722692352|          48|          Other|           15 October 2022|    Baltimore|            MD|   PRD_464|Tyson Canned Good...|       Groceries|       Canned Goods|         Tyson|        6.71|              10.9|      WH_044|             Dallas|             TX|               US|               3|     11.41|     34.23|          31.32|            20.5|     SAVE21|      credit_card|       pending|            no|               0|          2511 Oak Ave|               Apt 280|    Baltimore|            MD|       21210|              US|        express|             pending|\n",
      "|5f91996f-564d-4eb...| January 03, 2024|            19:09:07|         7.89|  CUST_0828|steven.ramirez@gm...|             Steven|           Ramirez|  872-448-8171|          40|          Other|                2021-10-02|  New York   |            NY|   PRD_045| Samsung Tablet Mini|     Electronics|            Tablets|       Samsung|      409.94|            614.06|      WH_005|           New York|             NY|               US|               2|    562.22|   1124.44|           19.0|             8.7|       NULL|      credit_card|       success|             0|               0|          1426 Main St|               Apt 959|       Denver|            CO|       42779|              US|      overnight|             pending|\n",
      "|9671afd1-ba57-412...|     Jan 09, 2024|            14:11:10|         1.43|  CUST_0156|michael.garcia@gm...|            Michael|            Garcia|  682-485-3643|          76|              M|                2022/02/27|     San Jose|            CA|   PRD_244|Cetaphil Medical ...|      Healthcare|    Medical Devices|      Cetaphil|       31.55|             44.15|      WH_006|        Los Angeles|             CA|               US|               7|     45.51|    318.57|          35.68|            21.3|     SAVE38|paypal|paypal_alt|          NULL|       pending|         pending|          7542 Main St|                Apt 59|     San Jose|            CA|       95110|              US|        express|             success|\n",
      "|a4945d17-93be-42b...|       2024/01/05|            06:08:02|         8.76|  CUST_0458|christopher.davis...|        Christopher|             Davis|  218-821-2646|          76|              F|                2021/09/09|      Seattle|            WA|   PRD_130| asics dresse deluxe|         Apparel|            Dresses|         Asics|       42.29|             73.63|      WH_035|        San Antonio|             TX|               US|               6|     64.08|    384.48|     24.85ERROR|            23.4|       NULL|       google_pay|        failed|            no|              no|          1468 Park Rd|                  NULL|      Seattle|            WA|       98104|              US|    overnight  |             pending|\n",
      "|fee6c779-ae22-458...|  07 January 2024|            21:27:12|         2.59|  CUST_1222|timothy.perez@gma...|            Timothy|             Perez|  +15013279759|          63|              F|               08-May-2022|      Seattle|            WA|   PRD_279|Neutrogena Baby C...|      Healthcare|          Baby Care|    Neutrogena|       121.8|            198.95|      WH_048|           San Jose|             CA|               US|               7|    235.19|      NULL|           NULL|            24.7|     SAVE12|       debit_card|       pending|          true|               1|          439 Maple St|               apt 499|      Seattle|            WA|       98110|              US|        express|             pending|\n",
      "|e478aa57-e014-403...|      21-Feb-2024|            20:09:53|          5.1|  CUST_0088|robert.nguyen@gma...|             Robert|            Nguyen|  372.279.1183|     43ERROR|          Other|        September 05, 2021|       Dallas|            TX|   PRD_048|     Sony Tablet Pro|     Electronics|            Tablets|          Sony|      151.63|             264.9|      WH_035|        San Antonio|             TX|               US|               3|    231.75|    695.25|          40.19|            22.0|   SAVE39  |           paypal|       success|             0|               0|         3788 Maple St|               Apt 125|       Dallas|            TX|       75201|              US|        express|             success|\n",
      "|5c90d55b-981d-439...|     Feb 26, 2024|            10:58:46|         1.88|  CUST_1033|joshua.allen@gmai...|             Joshua|             Allen|  357-651-6866|          36|              M|              Nov 12, 2021|      Phoenix|            AZ|   PRD_043|     Sony Tablet Pro|     Electronics|            tablets|          Sony|      130.95|            200.71|      WH_040|          San Diego|             CA|               US|               7|    240.44|   1683.08|          22.26|            21.1|      SAVE5|        apple_pay|       pending|             1|               1|          6462 Oak Ave|               Apt 206|      Phoenix|            AZ|       85003|              US|      overnight|             pending|\n",
      "|ddd321d1-8bb4-40a...|  28 January 2024|            02:05:24|         4.82|  CUST_0021|  james.lee@gmail...|              James|               Lee|    4219311564|          60|          Other|              Aug 05, 2023|       Austin|            TX|   PRD_126| Asics Dresse Deluxe|         Apparel|            Dresses|         Asics|       87.04|            122.95|      WH_035|        San Antonio|             TX|               US|               9|     99.04|    891.36|          11.02|             6.2|     SAVE30|       debit_card|       pending|            no|              no|           7506 Elm Dr|   Apt 153|Apt 153_alt|       Austin|            TX|       78704|              US|       standard|             pending|\n",
      "|9d2f28e3-56cc-4d8...|       2024/01/08|            17:20:54|         1.79|  CUST_0195|michael.hall@gmai...|            Michael|              Hall|    4216521782|          71|              F|               14-Mar-2021|       Boston|            MA|   PRD_371| Yonex Cycling Sport|          Sports|            Cycling|         Yonex|        NULL|            159.65|      WH_027|       Philadelphia|             PA|               US|               5|    139.49|    697.45|           3.18|            21.8|     SAVE34|       google_pay|       success|          true|               1|           937 Park Rd|               Apt 195|       Boston|            MA|       02107|              US|       standard|             success|\n",
      "|a0dd5a86-5bbc-426...|February 07, 2024|14:58:55|14:58:55...|          6.5|  CUST_2315|raymond.anderson@...|            Raymond|          Anderson|  +18568782684|          76|          Other|         November 14, 2023| Jacksonville|            FL|   PRD_426|  Tyson Meat Classic|       Groceries|               Meat|         Tyson|        3.32|               7.9|      WH_010|        Los Angeles|             CA|               US|               8|      8.94|     77.42|          11.03|             5.2|      SAVE7|        apple_3ay|       success|       pending|            NULL|           7190 Elm Dr|                  NULL| Jacksonville|            FL|       32210|              US|       standard|             success|\n",
      "|82ff968f-cb63-43a...|     Mar 14, 2024|            19:37:33|         2.42|  CUST_1061|kevin.hernandez@g...|              Kevin|         Hernandez|(906) 515-8274|        NULL|              M|                2023/02/14|    Baltimore|            MD|   PRD_367|Wilson Cycling De...|          Sports|            Cycling|        Wilson|        5.91|             10.92|      WH_041|             Dallas|             TX|               US|               2|      10.7|      21.4|          12.45|            21.0|      SAVE5|           paypal|          NULL|          NULL|             yes|          1697 Park Rd|               Apt 690|    Baltimore|            MD|       21208|              US|      overnight|              failed|\n",
      "|1b9447c9-b731-470...|       2024/03/17|            03:26:09|         7.07|  CUST_0418|thomas.moore@gmai...|             Thomas|             Moore|  +18122041797|          27|          Other|                2022/01/22|      Houston|            TX|   PRD_324|Spalding Outdoor ...|          Sports|       Outdoor Gear|      Spalding|       31.44|             53.77|      WH_020|            Houston|             TX|               US|               1|     62.84|     62.84|          18.27|            NULL|   SAVE47  |       debit_card|       success|         false|               0|        2572 Cedar Ave|            Apt 958   |      Houston|     TX|TX_alt|   00000-000|              US|        express|             success|\n",
      "|531b8835-287e-4f8...|       2024/01/31|            18:37:48|         4.47|  CUST_2284|frank.king@gmail.com|              Frank|              King|  985.406.5091|          71|              F|               04-Feb-2022|      Seattle|            WA|   PRD_473|Organic Valley Fr...|       Groceries|       Frozen Foods|Organic Valley|       15.79|             21.48|      WH_046|           San Jose|             CA|               US|               2|     20.62|     41.24|          48.87|            13.1|   SAVE39  |       debit_card|        failed|             1|            NULL|        1571 Cedar Ave|            Apt 571   |      Seattle|            WA|       98104|              US|        express|              failed|\n",
      "|da9d5a3c-4cf6-4da...|       2024-03-25|            03:59:06|         2.59|  CUST_0378|joseph.ramirez@gm...|             Joseph|           Ramirez|(444) 404-2497|          70|          Other|              Feb 21, 2024|      Seattle|            WA|   PRD_049|    Dell Tablet Plus|            NULL|            Tablets|          Dell|      816.74|           1180.89|      WH_006|        Los Angeles|             CA|               US|               1|   1364.25|   1364.25|           7.99|            14.8|   SAVE43  |       debit_card|       pending|           yes|            true|         2997 Maple St|               apt 694|      Seattle|            WA|       98110|              US|       standard|             pending|\n",
      "|d5b34535-f721-401...|    07 March 2024|            03:50:18|         1.99|  CUST_0458|christopher.davis...|        Christopher|             Davis|  631.228.1238|          38|          Other|              Nov 13, 2021|    Nashville|            TN|   PRD_223|Pampers First Aid...|      Healthcare|          First Aid|       Pampers|      102.68|            197.59|      WH_043|             Dallas|             TX|               US|               1|    181.09|    181.09|           NULL|             6.8|       NULL|      credit_card|       pending|             0|           false|         5576 Maple St|               APT 203|    Nashville|            TN|       37209|              US|       standard|             pending|\n",
      "|106c530a-fe07-4f5...|       2024-02-08|            11:56:26|         9.54|  CUST_0554|daniel.brown@gmai...|             Daniel|             Brown|  396-896-2035|          79|          Other|                2022-09-25|  San Antonio|            TX|   PRD_195|Adidas Accessorie...|         Apparel|        Accessories|        Adidas|       71.57|            105.64|      WH_041|             Dallas|             TX|        US|US_alt|               3|    101.98|    305.94|          28.93|            23.7|     SAVE16|        apple_pay|        failed|          true|            true|      9017 Maple St   |   Apt 957|Apt 957_alt|  San Antonio|            TX|       78201|              US|        express|             pending|\n",
      "|08c99f67-ee32-447...|       2024/01/23|            20:31:36|         5.99|  CUST_0852|paul.johnson@gmai...|               Paul|           Johnson|  298-880-3750|          45|              F|                2021/03/06|      Phoenix|            AZ|   PRD_384|Under Armour Nutr...|          Sports|          Nutrition|  Under Armour|       80.85|            183.32|      WH_022|            Phoenix|             AZ|               US|               5|    213.88|    1069.4|     20.94ERROR|            24.6|     SAVEx6|       google_pay|        failed|          NULL|            true|          8582 Park Rd|               Apt 302|      Phoenix|            AZ|       85008|              US|        express|             pending|\n",
      "+--------------------+-----------------+--------------------+-------------+-----------+--------------------+-------------------+------------------+--------------+------------+---------------+--------------------------+-------------+--------------+----------+--------------------+----------------+-------------------+--------------+------------+------------------+------------+-------------------+---------------+-----------------+----------------+----------+----------+---------------+----------------+-----------+-----------------+--------------+--------------+----------------+----------------------+----------------------+-------------+--------------+------------+----------------+---------------+--------------------+\n",
      "only showing top 20 rows\n",
      "\n"
     ]
    }
   ],
   "source": [
    "raw_order_status = input_df.select(\"order_status\").distinct().rdd.flatMap(lambda x: x).collect()\n",
    "print(raw_order_status)\n",
    "\n",
    "order_status_lookup = spark.read.option(\"header\", \"true\").option(\"inferSchema\", True).format(\"csv\").load(\"../lookup/order_status.csv\")\n",
    "# order_status_lookup.show()\n",
    "\n",
    "clean_order_status_df = input_df.withColumn(\"order_status\", trim(lower(col(\"order_status\"))))\n",
    "\n",
    "clean_order_status_df = clean_order_status_df.join(\n",
    "    order_status_lookup, \n",
    "    on=clean_order_status_df.order_status==order_status_lookup.raw_status,\n",
    "    how=\"left\").withColumn(\"order_status_cleaned\", coalesce(col(\"clean_status\"), lit(\"pending\"))).drop(\"order_status\", \"raw_status\", \"clean_status\")\n",
    "\n",
    "cleaned_order_status = clean_order_status_df.select(\"order_status_cleaned\").distinct().rdd.flatMap(lambda x: x).collect()\n",
    "print(cleaned_order_status)\n",
    "\n",
    "clean_order_status_df.show()\n",
    "\n"
   ]
  },
  {
   "cell_type": "markdown",
   "id": "5690b0df",
   "metadata": {},
   "source": [
    "### Clean dates - transforming dates data to standard form"
   ]
  },
  {
   "cell_type": "code",
   "execution_count": 6,
   "id": "ccc205cf",
   "metadata": {},
   "outputs": [
    {
     "name": "stdout",
     "output_type": "stream",
     "text": [
      "+--------------------+--------------------+-------------+-----------+--------------------+-------------------+------------------+--------------+------------+---------------+-------------+--------------+----------+--------------------+----------------+-------------------+--------------+------------+------------------+------------+-------------------+---------------+-----------------+----------------+----------+----------+---------------+----------------+-----------+-----------------+--------------+--------------+----------------+----------------------+----------------------+-------------+--------------+------------+----------------+---------------+--------------------+------------------+----------------------------------+\n",
      "|            order_id|          order_time|shipping_cost|customer_id|      customer_email|customer_first_name|customer_last_name|customer_phone|customer_age|customer_gender|customer_city|customer_state|product_id|        product_name|product_category|product_subcategory| product_brand|product_cost|product_list_price|warehouse_id|     warehouse_city|warehouse_state|warehouse_country|quantity_ordered|unit_price|line_total|discount_amount|discount_percent|coupon_code|   payment_method|payment_status|order_returned|payment_refunded|shipping_address_line1|shipping_address_line2|shipping_city|shipping_state|shipping_zip|shipping_country|shipping_method|order_status_cleaned|order_date_cleaned|customer_registration_date_cleaned|\n",
      "+--------------------+--------------------+-------------+-----------+--------------------+-------------------+------------------+--------------+------------+---------------+-------------+--------------+----------+--------------------+----------------+-------------------+--------------+------------+------------------+------------+-------------------+---------------+-----------------+----------------+----------+----------+---------------+----------------+-----------+-----------------+--------------+--------------+----------------+----------------------+----------------------+-------------+--------------+------------+----------------+---------------+--------------------+------------------+----------------------------------+\n",
      "|010dd81f-e2ba-452...|            21:55:59|          1.6|  CUST_0497|christopher.campb...|        Christopher|          Campbell|(399) 606-1618|          31|              M|       Boston|            MA|   PRD_493|        Nestle Spice|       Groceries|             Spices|        Nestle|        4.75|               6.5|      WH_021|            Phoenix|             AZ|               US|               6|      6.89|     41.34|          38.65|            14.1|  SAVE49   |      credit_card|       pending|         false|           false|           452 Main St|               Apt 602|       Boston|            MA|       02102|              US|      overnight|             pending|        2024-02-28|                        2021-11-13|\n",
      "|9f42a6f8-1ee8-418...|            07:30:19|         7.35|  CUST_0400|joseph.roberts@gm...|             Joseph|           Roberts|  456.317.3236|          47|              F|    Charlotte|            NC|   PRD_250|Nivea Skincare De...|      Healthcare|           Skincare|         Nivea|       53.78|             76.87|      WH_018|            Houston|             TX|               US|              10|     65.21|     652.1|           7.43|            23.6|     SAVE32|       debit_card|       pending|            no|               0|          1742 Park Rd|   Apt 738|Apt 738_alt|    Charlotte|            NC|       28201|              US|       standard|             pending|        2024-02-05|                        2022-10-28|\n",
      "|f6394362-2d73-469...|            22:02:32|         3.59|  CUST_0852|paul.johnson@gmai...|               Paul|           Johnson|  +18869668606|          25|              F|      Phoenix|            AZ|   PRD_389|Under Armour Nutr...|          Sports|          Nutrition|  Under Armour|        60.6|             94.24|      WH_021|Phoenix|Phoenix_alt|             AZ|               US|               7|     81.59|    571.13|          21.87|         8.6.0.0|     SAVEy1|        apple_pay|        failed|       pending|         pending|         3006 First St|             Apt 134  |      Phoenix|            AZ|       85005|              US|       standard|              failed|        2024-01-15|                        2021-11-06|\n",
      "|b6a1e3c9-f931-440...|            16:51:36|         6.92|  CUST_0498|christopher.mitch...|        Christopher|          Mitchell|    6722692352|          48|          Other|    Baltimore|            MD|   PRD_464|Tyson Canned Good...|       Groceries|       Canned Goods|         Tyson|        6.71|              10.9|      WH_044|             Dallas|             TX|               US|               3|     11.41|     34.23|          31.32|            20.5|     SAVE21|      credit_card|       pending|            no|               0|          2511 Oak Ave|               Apt 280|    Baltimore|            MD|       21210|              US|        express|             pending|        2024-03-25|                        2022-10-15|\n",
      "|5f91996f-564d-4eb...|            19:09:07|         7.89|  CUST_0828|steven.ramirez@gm...|             Steven|           Ramirez|  872-448-8171|          40|          Other|  New York   |            NY|   PRD_045| Samsung Tablet Mini|     Electronics|            Tablets|       Samsung|      409.94|            614.06|      WH_005|           New York|             NY|               US|               2|    562.22|   1124.44|           19.0|             8.7|       NULL|      credit_card|       success|             0|               0|          1426 Main St|               Apt 959|       Denver|            CO|       42779|              US|      overnight|             pending|        2024-01-03|                        2021-10-02|\n",
      "|9671afd1-ba57-412...|            14:11:10|         1.43|  CUST_0156|michael.garcia@gm...|            Michael|            Garcia|  682-485-3643|          76|              M|     San Jose|            CA|   PRD_244|Cetaphil Medical ...|      Healthcare|    Medical Devices|      Cetaphil|       31.55|             44.15|      WH_006|        Los Angeles|             CA|               US|               7|     45.51|    318.57|          35.68|            21.3|     SAVE38|paypal|paypal_alt|          NULL|       pending|         pending|          7542 Main St|                Apt 59|     San Jose|            CA|       95110|              US|        express|             success|        2024-01-09|                        2022-02-27|\n",
      "|a4945d17-93be-42b...|            06:08:02|         8.76|  CUST_0458|christopher.davis...|        Christopher|             Davis|  218-821-2646|          76|              F|      Seattle|            WA|   PRD_130| asics dresse deluxe|         Apparel|            Dresses|         Asics|       42.29|             73.63|      WH_035|        San Antonio|             TX|               US|               6|     64.08|    384.48|     24.85ERROR|            23.4|       NULL|       google_pay|        failed|            no|              no|          1468 Park Rd|                  NULL|      Seattle|            WA|       98104|              US|    overnight  |             pending|        2024-01-05|                        2021-09-09|\n",
      "|fee6c779-ae22-458...|            21:27:12|         2.59|  CUST_1222|timothy.perez@gma...|            Timothy|             Perez|  +15013279759|          63|              F|      Seattle|            WA|   PRD_279|Neutrogena Baby C...|      Healthcare|          Baby Care|    Neutrogena|       121.8|            198.95|      WH_048|           San Jose|             CA|               US|               7|    235.19|      NULL|           NULL|            24.7|     SAVE12|       debit_card|       pending|          true|               1|          439 Maple St|               apt 499|      Seattle|            WA|       98110|              US|        express|             pending|        2024-01-07|                        2022-05-08|\n",
      "|e478aa57-e014-403...|            20:09:53|          5.1|  CUST_0088|robert.nguyen@gma...|             Robert|            Nguyen|  372.279.1183|     43ERROR|          Other|       Dallas|            TX|   PRD_048|     Sony Tablet Pro|     Electronics|            Tablets|          Sony|      151.63|             264.9|      WH_035|        San Antonio|             TX|               US|               3|    231.75|    695.25|          40.19|            22.0|   SAVE39  |           paypal|       success|             0|               0|         3788 Maple St|               Apt 125|       Dallas|            TX|       75201|              US|        express|             success|        2024-02-21|                        2021-09-05|\n",
      "|5c90d55b-981d-439...|            10:58:46|         1.88|  CUST_1033|joshua.allen@gmai...|             Joshua|             Allen|  357-651-6866|          36|              M|      Phoenix|            AZ|   PRD_043|     Sony Tablet Pro|     Electronics|            tablets|          Sony|      130.95|            200.71|      WH_040|          San Diego|             CA|               US|               7|    240.44|   1683.08|          22.26|            21.1|      SAVE5|        apple_pay|       pending|             1|               1|          6462 Oak Ave|               Apt 206|      Phoenix|            AZ|       85003|              US|      overnight|             pending|        2024-02-26|                        2021-11-12|\n",
      "|ddd321d1-8bb4-40a...|            02:05:24|         4.82|  CUST_0021|  james.lee@gmail...|              James|               Lee|    4219311564|          60|          Other|       Austin|            TX|   PRD_126| Asics Dresse Deluxe|         Apparel|            Dresses|         Asics|       87.04|            122.95|      WH_035|        San Antonio|             TX|               US|               9|     99.04|    891.36|          11.02|             6.2|     SAVE30|       debit_card|       pending|            no|              no|           7506 Elm Dr|   Apt 153|Apt 153_alt|       Austin|            TX|       78704|              US|       standard|             pending|        2024-01-28|                        2023-08-05|\n",
      "|9d2f28e3-56cc-4d8...|            17:20:54|         1.79|  CUST_0195|michael.hall@gmai...|            Michael|              Hall|    4216521782|          71|              F|       Boston|            MA|   PRD_371| Yonex Cycling Sport|          Sports|            Cycling|         Yonex|        NULL|            159.65|      WH_027|       Philadelphia|             PA|               US|               5|    139.49|    697.45|           3.18|            21.8|     SAVE34|       google_pay|       success|          true|               1|           937 Park Rd|               Apt 195|       Boston|            MA|       02107|              US|       standard|             success|        2024-01-08|                        2021-03-14|\n",
      "|a0dd5a86-5bbc-426...|14:58:55|14:58:55...|          6.5|  CUST_2315|raymond.anderson@...|            Raymond|          Anderson|  +18568782684|          76|          Other| Jacksonville|            FL|   PRD_426|  Tyson Meat Classic|       Groceries|               Meat|         Tyson|        3.32|               7.9|      WH_010|        Los Angeles|             CA|               US|               8|      8.94|     77.42|          11.03|             5.2|      SAVE7|        apple_3ay|       success|       pending|            NULL|           7190 Elm Dr|                  NULL| Jacksonville|            FL|       32210|              US|       standard|             success|        2024-02-07|                        2023-11-14|\n",
      "|82ff968f-cb63-43a...|            19:37:33|         2.42|  CUST_1061|kevin.hernandez@g...|              Kevin|         Hernandez|(906) 515-8274|        NULL|              M|    Baltimore|            MD|   PRD_367|Wilson Cycling De...|          Sports|            Cycling|        Wilson|        5.91|             10.92|      WH_041|             Dallas|             TX|               US|               2|      10.7|      21.4|          12.45|            21.0|      SAVE5|           paypal|          NULL|          NULL|             yes|          1697 Park Rd|               Apt 690|    Baltimore|            MD|       21208|              US|      overnight|              failed|        2024-03-14|                        2023-02-14|\n",
      "|1b9447c9-b731-470...|            03:26:09|         7.07|  CUST_0418|thomas.moore@gmai...|             Thomas|             Moore|  +18122041797|          27|          Other|      Houston|            TX|   PRD_324|Spalding Outdoor ...|          Sports|       Outdoor Gear|      Spalding|       31.44|             53.77|      WH_020|            Houston|             TX|               US|               1|     62.84|     62.84|          18.27|            NULL|   SAVE47  |       debit_card|       success|         false|               0|        2572 Cedar Ave|            Apt 958   |      Houston|     TX|TX_alt|   00000-000|              US|        express|             success|        2024-03-17|                        2022-01-22|\n",
      "|531b8835-287e-4f8...|            18:37:48|         4.47|  CUST_2284|frank.king@gmail.com|              Frank|              King|  985.406.5091|          71|              F|      Seattle|            WA|   PRD_473|Organic Valley Fr...|       Groceries|       Frozen Foods|Organic Valley|       15.79|             21.48|      WH_046|           San Jose|             CA|               US|               2|     20.62|     41.24|          48.87|            13.1|   SAVE39  |       debit_card|        failed|             1|            NULL|        1571 Cedar Ave|            Apt 571   |      Seattle|            WA|       98104|              US|        express|              failed|        2024-01-31|                        2022-02-04|\n",
      "|da9d5a3c-4cf6-4da...|            03:59:06|         2.59|  CUST_0378|joseph.ramirez@gm...|             Joseph|           Ramirez|(444) 404-2497|          70|          Other|      Seattle|            WA|   PRD_049|    Dell Tablet Plus|            NULL|            Tablets|          Dell|      816.74|           1180.89|      WH_006|        Los Angeles|             CA|               US|               1|   1364.25|   1364.25|           7.99|            14.8|   SAVE43  |       debit_card|       pending|           yes|            true|         2997 Maple St|               apt 694|      Seattle|            WA|       98110|              US|       standard|             pending|        2024-03-25|                        2024-02-21|\n",
      "|d5b34535-f721-401...|            03:50:18|         1.99|  CUST_0458|christopher.davis...|        Christopher|             Davis|  631.228.1238|          38|          Other|    Nashville|            TN|   PRD_223|Pampers First Aid...|      Healthcare|          First Aid|       Pampers|      102.68|            197.59|      WH_043|             Dallas|             TX|               US|               1|    181.09|    181.09|           NULL|             6.8|       NULL|      credit_card|       pending|             0|           false|         5576 Maple St|               APT 203|    Nashville|            TN|       37209|              US|       standard|             pending|        2024-03-07|                        2021-11-13|\n",
      "|106c530a-fe07-4f5...|            11:56:26|         9.54|  CUST_0554|daniel.brown@gmai...|             Daniel|             Brown|  396-896-2035|          79|          Other|  San Antonio|            TX|   PRD_195|Adidas Accessorie...|         Apparel|        Accessories|        Adidas|       71.57|            105.64|      WH_041|             Dallas|             TX|        US|US_alt|               3|    101.98|    305.94|          28.93|            23.7|     SAVE16|        apple_pay|        failed|          true|            true|      9017 Maple St   |   Apt 957|Apt 957_alt|  San Antonio|            TX|       78201|              US|        express|             pending|        2024-02-08|                        2022-09-25|\n",
      "|08c99f67-ee32-447...|            20:31:36|         5.99|  CUST_0852|paul.johnson@gmai...|               Paul|           Johnson|  298-880-3750|          45|              F|      Phoenix|            AZ|   PRD_384|Under Armour Nutr...|          Sports|          Nutrition|  Under Armour|       80.85|            183.32|      WH_022|            Phoenix|             AZ|               US|               5|    213.88|    1069.4|     20.94ERROR|            24.6|     SAVEx6|       google_pay|        failed|          NULL|            true|          8582 Park Rd|               Apt 302|      Phoenix|            AZ|       85008|              US|        express|             pending|        2024-01-23|                        2021-03-06|\n",
      "+--------------------+--------------------+-------------+-----------+--------------------+-------------------+------------------+--------------+------------+---------------+-------------+--------------+----------+--------------------+----------------+-------------------+--------------+------------+------------------+------------+-------------------+---------------+-----------------+----------------+----------+----------+---------------+----------------+-----------+-----------------+--------------+--------------+----------------+----------------------+----------------------+-------------+--------------+------------+----------------+---------------+--------------------+------------------+----------------------------------+\n",
      "only showing top 20 rows\n",
      "\n"
     ]
    }
   ],
   "source": [
    "def transform_date_udf(val):\n",
    "    if val is None:\n",
    "        return None\n",
    "    return parser.parse(val).date()\n",
    "\n",
    "transform_date_udf = udf(transform_date_udf, DateType())\n",
    "\n",
    "clean_dates_df = clean_order_status_df.withColumn(\n",
    "    \"order_date_cleaned\",\n",
    "    transform_date_udf(col(\"order_date\"))\n",
    ").withColumn(\n",
    "    \"customer_registration_date_cleaned\", \n",
    "    transform_date_udf(col(\"customer_registration_date\"))\n",
    "    ).drop(\"order_date\", \"customer_registration_date\")\n",
    "clean_dates_df.show()"
   ]
  },
  {
   "cell_type": "markdown",
   "id": "82530766",
   "metadata": {},
   "source": [
    "### Transform phone number to standard format"
   ]
  },
  {
   "cell_type": "code",
   "execution_count": 7,
   "id": "c803cb4c",
   "metadata": {},
   "outputs": [
    {
     "name": "stdout",
     "output_type": "stream",
     "text": [
      "+--------------------+--------------------+-------------+-----------+--------------------+-------------------+------------------+------------+---------------+-------------+--------------+----------+--------------------+----------------+-------------------+--------------+------------+------------------+------------+-------------------+---------------+-----------------+----------------+----------+----------+---------------+----------------+-----------+-----------------+--------------+--------------+----------------+----------------------+----------------------+-------------+--------------+------------+----------------+---------------+--------------------+------------------+----------------------------------+----------------------+\n",
      "|            order_id|          order_time|shipping_cost|customer_id|      customer_email|customer_first_name|customer_last_name|customer_age|customer_gender|customer_city|customer_state|product_id|        product_name|product_category|product_subcategory| product_brand|product_cost|product_list_price|warehouse_id|     warehouse_city|warehouse_state|warehouse_country|quantity_ordered|unit_price|line_total|discount_amount|discount_percent|coupon_code|   payment_method|payment_status|order_returned|payment_refunded|shipping_address_line1|shipping_address_line2|shipping_city|shipping_state|shipping_zip|shipping_country|shipping_method|order_status_cleaned|order_date_cleaned|customer_registration_date_cleaned|customer_phone_cleaned|\n",
      "+--------------------+--------------------+-------------+-----------+--------------------+-------------------+------------------+------------+---------------+-------------+--------------+----------+--------------------+----------------+-------------------+--------------+------------+------------------+------------+-------------------+---------------+-----------------+----------------+----------+----------+---------------+----------------+-----------+-----------------+--------------+--------------+----------------+----------------------+----------------------+-------------+--------------+------------+----------------+---------------+--------------------+------------------+----------------------------------+----------------------+\n",
      "|010dd81f-e2ba-452...|            21:55:59|          1.6|  CUST_0497|christopher.campb...|        Christopher|          Campbell|          31|              M|       Boston|            MA|   PRD_493|        Nestle Spice|       Groceries|             Spices|        Nestle|        4.75|               6.5|      WH_021|            Phoenix|             AZ|               US|               6|      6.89|     41.34|          38.65|            14.1|  SAVE49   |      credit_card|       pending|         false|           false|           452 Main St|               Apt 602|       Boston|            MA|       02102|              US|      overnight|             pending|        2024-02-28|                        2021-11-13|        (399) 606-1618|\n",
      "|9f42a6f8-1ee8-418...|            07:30:19|         7.35|  CUST_0400|joseph.roberts@gm...|             Joseph|           Roberts|          47|              F|    Charlotte|            NC|   PRD_250|Nivea Skincare De...|      Healthcare|           Skincare|         Nivea|       53.78|             76.87|      WH_018|            Houston|             TX|               US|              10|     65.21|     652.1|           7.43|            23.6|     SAVE32|       debit_card|       pending|            no|               0|          1742 Park Rd|   Apt 738|Apt 738_alt|    Charlotte|            NC|       28201|              US|       standard|             pending|        2024-02-05|                        2022-10-28|        (456) 317-3236|\n",
      "|f6394362-2d73-469...|            22:02:32|         3.59|  CUST_0852|paul.johnson@gmai...|               Paul|           Johnson|          25|              F|      Phoenix|            AZ|   PRD_389|Under Armour Nutr...|          Sports|          Nutrition|  Under Armour|        60.6|             94.24|      WH_021|Phoenix|Phoenix_alt|             AZ|               US|               7|     81.59|    571.13|          21.87|         8.6.0.0|     SAVEy1|        apple_pay|        failed|       pending|         pending|         3006 First St|             Apt 134  |      Phoenix|            AZ|       85005|              US|       standard|              failed|        2024-01-15|                        2021-11-06|        (886) 966-8606|\n",
      "|b6a1e3c9-f931-440...|            16:51:36|         6.92|  CUST_0498|christopher.mitch...|        Christopher|          Mitchell|          48|          Other|    Baltimore|            MD|   PRD_464|Tyson Canned Good...|       Groceries|       Canned Goods|         Tyson|        6.71|              10.9|      WH_044|             Dallas|             TX|               US|               3|     11.41|     34.23|          31.32|            20.5|     SAVE21|      credit_card|       pending|            no|               0|          2511 Oak Ave|               Apt 280|    Baltimore|            MD|       21210|              US|        express|             pending|        2024-03-25|                        2022-10-15|        (672) 269-2352|\n",
      "|5f91996f-564d-4eb...|            19:09:07|         7.89|  CUST_0828|steven.ramirez@gm...|             Steven|           Ramirez|          40|          Other|  New York   |            NY|   PRD_045| Samsung Tablet Mini|     Electronics|            Tablets|       Samsung|      409.94|            614.06|      WH_005|           New York|             NY|               US|               2|    562.22|   1124.44|           19.0|             8.7|       NULL|      credit_card|       success|             0|               0|          1426 Main St|               Apt 959|       Denver|            CO|       42779|              US|      overnight|             pending|        2024-01-03|                        2021-10-02|        (872) 448-8171|\n",
      "|9671afd1-ba57-412...|            14:11:10|         1.43|  CUST_0156|michael.garcia@gm...|            Michael|            Garcia|          76|              M|     San Jose|            CA|   PRD_244|Cetaphil Medical ...|      Healthcare|    Medical Devices|      Cetaphil|       31.55|             44.15|      WH_006|        Los Angeles|             CA|               US|               7|     45.51|    318.57|          35.68|            21.3|     SAVE38|paypal|paypal_alt|          NULL|       pending|         pending|          7542 Main St|                Apt 59|     San Jose|            CA|       95110|              US|        express|             success|        2024-01-09|                        2022-02-27|        (682) 485-3643|\n",
      "|a4945d17-93be-42b...|            06:08:02|         8.76|  CUST_0458|christopher.davis...|        Christopher|             Davis|          76|              F|      Seattle|            WA|   PRD_130| asics dresse deluxe|         Apparel|            Dresses|         Asics|       42.29|             73.63|      WH_035|        San Antonio|             TX|               US|               6|     64.08|    384.48|     24.85ERROR|            23.4|       NULL|       google_pay|        failed|            no|              no|          1468 Park Rd|                  NULL|      Seattle|            WA|       98104|              US|    overnight  |             pending|        2024-01-05|                        2021-09-09|        (218) 821-2646|\n",
      "|fee6c779-ae22-458...|            21:27:12|         2.59|  CUST_1222|timothy.perez@gma...|            Timothy|             Perez|          63|              F|      Seattle|            WA|   PRD_279|Neutrogena Baby C...|      Healthcare|          Baby Care|    Neutrogena|       121.8|            198.95|      WH_048|           San Jose|             CA|               US|               7|    235.19|      NULL|           NULL|            24.7|     SAVE12|       debit_card|       pending|          true|               1|          439 Maple St|               apt 499|      Seattle|            WA|       98110|              US|        express|             pending|        2024-01-07|                        2022-05-08|        (501) 327-9759|\n",
      "|e478aa57-e014-403...|            20:09:53|          5.1|  CUST_0088|robert.nguyen@gma...|             Robert|            Nguyen|     43ERROR|          Other|       Dallas|            TX|   PRD_048|     Sony Tablet Pro|     Electronics|            Tablets|          Sony|      151.63|             264.9|      WH_035|        San Antonio|             TX|               US|               3|    231.75|    695.25|          40.19|            22.0|   SAVE39  |           paypal|       success|             0|               0|         3788 Maple St|               Apt 125|       Dallas|            TX|       75201|              US|        express|             success|        2024-02-21|                        2021-09-05|        (372) 279-1183|\n",
      "|5c90d55b-981d-439...|            10:58:46|         1.88|  CUST_1033|joshua.allen@gmai...|             Joshua|             Allen|          36|              M|      Phoenix|            AZ|   PRD_043|     Sony Tablet Pro|     Electronics|            tablets|          Sony|      130.95|            200.71|      WH_040|          San Diego|             CA|               US|               7|    240.44|   1683.08|          22.26|            21.1|      SAVE5|        apple_pay|       pending|             1|               1|          6462 Oak Ave|               Apt 206|      Phoenix|            AZ|       85003|              US|      overnight|             pending|        2024-02-26|                        2021-11-12|        (357) 651-6866|\n",
      "|ddd321d1-8bb4-40a...|            02:05:24|         4.82|  CUST_0021|  james.lee@gmail...|              James|               Lee|          60|          Other|       Austin|            TX|   PRD_126| Asics Dresse Deluxe|         Apparel|            Dresses|         Asics|       87.04|            122.95|      WH_035|        San Antonio|             TX|               US|               9|     99.04|    891.36|          11.02|             6.2|     SAVE30|       debit_card|       pending|            no|              no|           7506 Elm Dr|   Apt 153|Apt 153_alt|       Austin|            TX|       78704|              US|       standard|             pending|        2024-01-28|                        2023-08-05|        (421) 931-1564|\n",
      "|9d2f28e3-56cc-4d8...|            17:20:54|         1.79|  CUST_0195|michael.hall@gmai...|            Michael|              Hall|          71|              F|       Boston|            MA|   PRD_371| Yonex Cycling Sport|          Sports|            Cycling|         Yonex|        NULL|            159.65|      WH_027|       Philadelphia|             PA|               US|               5|    139.49|    697.45|           3.18|            21.8|     SAVE34|       google_pay|       success|          true|               1|           937 Park Rd|               Apt 195|       Boston|            MA|       02107|              US|       standard|             success|        2024-01-08|                        2021-03-14|        (421) 652-1782|\n",
      "|a0dd5a86-5bbc-426...|14:58:55|14:58:55...|          6.5|  CUST_2315|raymond.anderson@...|            Raymond|          Anderson|          76|          Other| Jacksonville|            FL|   PRD_426|  Tyson Meat Classic|       Groceries|               Meat|         Tyson|        3.32|               7.9|      WH_010|        Los Angeles|             CA|               US|               8|      8.94|     77.42|          11.03|             5.2|      SAVE7|        apple_3ay|       success|       pending|            NULL|           7190 Elm Dr|                  NULL| Jacksonville|            FL|       32210|              US|       standard|             success|        2024-02-07|                        2023-11-14|        (856) 878-2684|\n",
      "|82ff968f-cb63-43a...|            19:37:33|         2.42|  CUST_1061|kevin.hernandez@g...|              Kevin|         Hernandez|        NULL|              M|    Baltimore|            MD|   PRD_367|Wilson Cycling De...|          Sports|            Cycling|        Wilson|        5.91|             10.92|      WH_041|             Dallas|             TX|               US|               2|      10.7|      21.4|          12.45|            21.0|      SAVE5|           paypal|          NULL|          NULL|             yes|          1697 Park Rd|               Apt 690|    Baltimore|            MD|       21208|              US|      overnight|              failed|        2024-03-14|                        2023-02-14|        (906) 515-8274|\n",
      "|1b9447c9-b731-470...|            03:26:09|         7.07|  CUST_0418|thomas.moore@gmai...|             Thomas|             Moore|          27|          Other|      Houston|            TX|   PRD_324|Spalding Outdoor ...|          Sports|       Outdoor Gear|      Spalding|       31.44|             53.77|      WH_020|            Houston|             TX|               US|               1|     62.84|     62.84|          18.27|            NULL|   SAVE47  |       debit_card|       success|         false|               0|        2572 Cedar Ave|            Apt 958   |      Houston|     TX|TX_alt|   00000-000|              US|        express|             success|        2024-03-17|                        2022-01-22|        (812) 204-1797|\n",
      "|531b8835-287e-4f8...|            18:37:48|         4.47|  CUST_2284|frank.king@gmail.com|              Frank|              King|          71|              F|      Seattle|            WA|   PRD_473|Organic Valley Fr...|       Groceries|       Frozen Foods|Organic Valley|       15.79|             21.48|      WH_046|           San Jose|             CA|               US|               2|     20.62|     41.24|          48.87|            13.1|   SAVE39  |       debit_card|        failed|             1|            NULL|        1571 Cedar Ave|            Apt 571   |      Seattle|            WA|       98104|              US|        express|              failed|        2024-01-31|                        2022-02-04|        (985) 406-5091|\n",
      "|da9d5a3c-4cf6-4da...|            03:59:06|         2.59|  CUST_0378|joseph.ramirez@gm...|             Joseph|           Ramirez|          70|          Other|      Seattle|            WA|   PRD_049|    Dell Tablet Plus|            NULL|            Tablets|          Dell|      816.74|           1180.89|      WH_006|        Los Angeles|             CA|               US|               1|   1364.25|   1364.25|           7.99|            14.8|   SAVE43  |       debit_card|       pending|           yes|            true|         2997 Maple St|               apt 694|      Seattle|            WA|       98110|              US|       standard|             pending|        2024-03-25|                        2024-02-21|        (444) 404-2497|\n",
      "|d5b34535-f721-401...|            03:50:18|         1.99|  CUST_0458|christopher.davis...|        Christopher|             Davis|          38|          Other|    Nashville|            TN|   PRD_223|Pampers First Aid...|      Healthcare|          First Aid|       Pampers|      102.68|            197.59|      WH_043|             Dallas|             TX|               US|               1|    181.09|    181.09|           NULL|             6.8|       NULL|      credit_card|       pending|             0|           false|         5576 Maple St|               APT 203|    Nashville|            TN|       37209|              US|       standard|             pending|        2024-03-07|                        2021-11-13|        (631) 228-1238|\n",
      "|106c530a-fe07-4f5...|            11:56:26|         9.54|  CUST_0554|daniel.brown@gmai...|             Daniel|             Brown|          79|          Other|  San Antonio|            TX|   PRD_195|Adidas Accessorie...|         Apparel|        Accessories|        Adidas|       71.57|            105.64|      WH_041|             Dallas|             TX|        US|US_alt|               3|    101.98|    305.94|          28.93|            23.7|     SAVE16|        apple_pay|        failed|          true|            true|      9017 Maple St   |   Apt 957|Apt 957_alt|  San Antonio|            TX|       78201|              US|        express|             pending|        2024-02-08|                        2022-09-25|        (396) 896-2035|\n",
      "|08c99f67-ee32-447...|            20:31:36|         5.99|  CUST_0852|paul.johnson@gmai...|               Paul|           Johnson|          45|              F|      Phoenix|            AZ|   PRD_384|Under Armour Nutr...|          Sports|          Nutrition|  Under Armour|       80.85|            183.32|      WH_022|            Phoenix|             AZ|               US|               5|    213.88|    1069.4|     20.94ERROR|            24.6|     SAVEx6|       google_pay|        failed|          NULL|            true|          8582 Park Rd|               Apt 302|      Phoenix|            AZ|       85008|              US|        express|             pending|        2024-01-23|                        2021-03-06|        (298) 880-3750|\n",
      "+--------------------+--------------------+-------------+-----------+--------------------+-------------------+------------------+------------+---------------+-------------+--------------+----------+--------------------+----------------+-------------------+--------------+------------+------------------+------------+-------------------+---------------+-----------------+----------------+----------+----------+---------------+----------------+-----------+-----------------+--------------+--------------+----------------+----------------------+----------------------+-------------+--------------+------------+----------------+---------------+--------------------+------------------+----------------------------------+----------------------+\n",
      "only showing top 20 rows\n",
      "\n"
     ]
    }
   ],
   "source": [
    "cleaned_phone_number_df = clean_dates_df.withColumn(\n",
    "    \"customer_phone_cleaned\", regexp_replace(col(\"customer_phone\") , r\"[^0-9]\", \"\")\n",
    ").withColumn(\n",
    "    \"customer_phone_cleaned\", when(length(col(\"customer_phone_cleaned\"))>10, col(\"customer_phone_cleaned\").substr(2, 10)).otherwise(col(\"customer_phone_cleaned\"))\n",
    ").withColumn(\n",
    "    \"customer_phone_cleaned\", concat(lit(\"(\"), col(\"customer_phone_cleaned\").substr(1, 3), lit(\")\"), lit(\" \"), col(\"customer_phone_cleaned\").substr(4, 3), lit(\"-\"), col(\"customer_phone_cleaned\").substr(7, 4))\n",
    ").drop(\"customer_phone\")\n",
    "cleaned_phone_number_df.show()"
   ]
  },
  {
   "cell_type": "markdown",
   "id": "6089c7f0",
   "metadata": {},
   "source": [
    "### Clean payment status - map each payment status to 'success', 'failed' or 'pending'"
   ]
  },
  {
   "cell_type": "code",
   "execution_count": 8,
   "id": "b26221e9",
   "metadata": {},
   "outputs": [
    {
     "name": "stdout",
     "output_type": "stream",
     "text": [
      "['delivered   ', 'pending|pending_alt', 'cancelled   ', 'deliveryd', 'shipped', '  cancelled  ', '  pending  ', 'cancelled', 'shipped|shipped_alt', 'pxnding', 'p3nding', 'shipped   ', 'DELIVERED', 'p#nding', 'p@nding', 'CANCELLED', 'delivered', 'pending', 'cancexled', 'caycelled', 'shippxd', 'delivered|delivered_alt', 'pending   ', 'PENDING', 'SHIPPED', 'cancellzd', None]\n",
      "+-------------------+--------------+\n",
      "|raw_value          |standard_value|\n",
      "+-------------------+--------------+\n",
      "|pending|pending_alt|pending       |\n",
      "|pending            |pending       |\n",
      "|pen@ing            |pending       |\n",
      "|penying            |pending       |\n",
      "|pen#ing            |pending       |\n",
      "|pendyng            |pending       |\n",
      "|pendxng            |pending       |\n",
      "|PENDING            |pending       |\n",
      "|success            |success       |\n",
      "|SUCCESS            |success       |\n",
      "|success|success_alt|success       |\n",
      "|succ@ss            |success       |\n",
      "|succexs            |success       |\n",
      "|failed             |failed        |\n",
      "|fail1d             |failed        |\n",
      "|fa@led             |failed        |\n",
      "|failed|failed_alt  |failed        |\n",
      "|NULL               |NULL          |\n",
      "+-------------------+--------------+\n",
      "\n",
      "+------------------------------------+---------------------+-------------+-----------+------------------------------+-------------------+------------------+------------+---------------+-------------+--------------+----------+----------------------------------+----------------+-------------------+--------------+------------+------------------+------------+-------------------+---------------+-----------------+----------------+----------+----------+---------------+----------------+-----------+-----------------+--------------+----------------+----------------------+----------------------+-------------+--------------+------------+----------------+---------------+--------------------+------------------+----------------------------------+----------------------+----------------------+\n",
      "|order_id                            |order_time           |shipping_cost|customer_id|customer_email                |customer_first_name|customer_last_name|customer_age|customer_gender|customer_city|customer_state|product_id|product_name                      |product_category|product_subcategory|product_brand |product_cost|product_list_price|warehouse_id|warehouse_city     |warehouse_state|warehouse_country|quantity_ordered|unit_price|line_total|discount_amount|discount_percent|coupon_code|payment_method   |order_returned|payment_refunded|shipping_address_line1|shipping_address_line2|shipping_city|shipping_state|shipping_zip|shipping_country|shipping_method|order_status_cleaned|order_date_cleaned|customer_registration_date_cleaned|customer_phone_cleaned|payment_status_cleaned|\n",
      "+------------------------------------+---------------------+-------------+-----------+------------------------------+-------------------+------------------+------------+---------------+-------------+--------------+----------+----------------------------------+----------------+-------------------+--------------+------------+------------------+------------+-------------------+---------------+-----------------+----------------+----------+----------+---------------+----------------+-----------+-----------------+--------------+----------------+----------------------+----------------------+-------------+--------------+------------+----------------+---------------+--------------------+------------------+----------------------------------+----------------------+----------------------+\n",
      "|010dd81f-e2ba-4522-a2ca-a6ae2290e720|21:55:59             |1.6          |CUST_0497  |christopher.campbell@gmail.com|Christopher        |Campbell          |31          |M              |Boston       |MA            |PRD_493   |Nestle Spice                      |Groceries       |Spices             |Nestle        |4.75        |6.5               |WH_021      |Phoenix            |AZ             |US               |6               |6.89      |41.34     |38.65          |14.1            |SAVE49     |credit_card      |false         |false           |452 Main St           |Apt 602               |Boston       |MA            |02102       |US              |overnight      |pending             |2024-02-28        |2021-11-13                        |(399) 606-1618        |pending               |\n",
      "|9f42a6f8-1ee8-4180-b76f-d8297f02b9f6|07:30:19             |7.35         |CUST_0400  |joseph.roberts@gmail.com      |Joseph             |Roberts           |47          |F              |Charlotte    |NC            |PRD_250   |Nivea Skincare Deluxe             |Healthcare      |Skincare           |Nivea         |53.78       |76.87             |WH_018      |Houston            |TX             |US               |10              |65.21     |652.1     |7.43           |23.6            |SAVE32     |debit_card       |no            |0               |1742 Park Rd          |Apt 738|Apt 738_alt   |Charlotte    |NC            |28201       |US              |standard       |pending             |2024-02-05        |2022-10-28                        |(456) 317-3236        |pending               |\n",
      "|f6394362-2d73-4698-8464-94d2331920dc|22:02:32             |3.59         |CUST_0852  |paul.johnson@gmail.com        |Paul               |Johnson           |25          |F              |Phoenix      |AZ            |PRD_389   |Under Armour Nutrition Premium    |Sports          |Nutrition          |Under Armour  |60.6        |94.24             |WH_021      |Phoenix|Phoenix_alt|AZ             |US               |7               |81.59     |571.13    |21.87          |8.6.0.0         |SAVEy1     |apple_pay        |pending       |pending         |3006 First St         |  Apt 134             |Phoenix      |AZ            |85005       |US              |standard       |failed              |2024-01-15        |2021-11-06                        |(886) 966-8606        |failed                |\n",
      "|b6a1e3c9-f931-4402-908b-9711ab88c375|16:51:36             |6.92         |CUST_0498  |christopher.mitchell@gmail.com|Christopher        |Mitchell          |48          |Other          |Baltimore    |MD            |PRD_464   |Tyson Canned Good Classic         |Groceries       |Canned Goods       |Tyson         |6.71        |10.9              |WH_044      |Dallas             |TX             |US               |3               |11.41     |34.23     |31.32          |20.5            |SAVE21     |credit_card      |no            |0               |2511 Oak Ave          |Apt 280               |Baltimore    |MD            |21210       |US              |express        |pending             |2024-03-25        |2022-10-15                        |(672) 269-2352        |pending               |\n",
      "|5f91996f-564d-4ebb-9a12-d83354a2d7c8|19:09:07             |7.89         |CUST_0828  |steven.ramirez@gmail.com      |Steven             |Ramirez           |40          |Other          |New York     |NY            |PRD_045   |Samsung Tablet Mini               |Electronics     |Tablets            |Samsung       |409.94      |614.06            |WH_005      |New York           |NY             |US               |2               |562.22    |1124.44   |19.0           |8.7             |NULL       |credit_card      |0             |0               |1426 Main St          |Apt 959               |Denver       |CO            |42779       |US              |overnight      |pending             |2024-01-03        |2021-10-02                        |(872) 448-8171        |success               |\n",
      "|9671afd1-ba57-4129-8310-bb12a6ea7900|14:11:10             |1.43         |CUST_0156  |michael.garcia@gmail.com      |Michael            |Garcia            |76          |M              |San Jose     |CA            |PRD_244   |Cetaphil Medical Device Classic   |Healthcare      |Medical Devices    |Cetaphil      |31.55       |44.15             |WH_006      |Los Angeles        |CA             |US               |7               |45.51     |318.57    |35.68          |21.3            |SAVE38     |paypal|paypal_alt|pending       |pending         |7542 Main St          |Apt 59                |San Jose     |CA            |95110       |US              |express        |success             |2024-01-09        |2022-02-27                        |(682) 485-3643        |NULL                  |\n",
      "|a4945d17-93be-42b2-90ba-d829ee1c1d76|06:08:02             |8.76         |CUST_0458  |christopher.davis@gmail.com   |Christopher        |Davis             |76          |F              |Seattle      |WA            |PRD_130   |asics dresse deluxe               |Apparel         |Dresses            |Asics         |42.29       |73.63             |WH_035      |San Antonio        |TX             |US               |6               |64.08     |384.48    |24.85ERROR     |23.4            |NULL       |google_pay       |no            |no              |1468 Park Rd          |NULL                  |Seattle      |WA            |98104       |US              |  overnight    |pending             |2024-01-05        |2021-09-09                        |(218) 821-2646        |failed                |\n",
      "|fee6c779-ae22-4581-af19-cf36d3498175|21:27:12             |2.59         |CUST_1222  |timothy.perez@gmail.com       |Timothy            |Perez             |63          |F              |Seattle      |WA            |PRD_279   |Neutrogena Baby Care Deluxe       |Healthcare      |Baby Care          |Neutrogena    |121.8       |198.95            |WH_048      |San Jose           |CA             |US               |7               |235.19    |NULL      |NULL           |24.7            |SAVE12     |debit_card       |true          |1               |439 Maple St          |apt 499               |Seattle      |WA            |98110       |US              |express        |pending             |2024-01-07        |2022-05-08                        |(501) 327-9759        |pending               |\n",
      "|e478aa57-e014-403b-a830-400f3764414e|20:09:53             |5.1          |CUST_0088  |robert.nguyen@gmail.com       |Robert             |Nguyen            |43ERROR     |Other          |Dallas       |TX            |PRD_048   |Sony Tablet Pro                   |Electronics     |Tablets            |Sony          |151.63      |264.9             |WH_035      |San Antonio        |TX             |US               |3               |231.75    |695.25    |40.19          |22.0            |  SAVE39   |paypal           |0             |0               |3788 Maple St         |Apt 125               |Dallas       |TX            |75201       |US              |express        |success             |2024-02-21        |2021-09-05                        |(372) 279-1183        |success               |\n",
      "|5c90d55b-981d-4396-9d59-a9011a1f36db|10:58:46             |1.88         |CUST_1033  |joshua.allen@gmail.com        |Joshua             |Allen             |36          |M              |Phoenix      |AZ            |PRD_043   |Sony Tablet Pro                   |Electronics     |tablets            |Sony          |130.95      |200.71            |WH_040      |San Diego          |CA             |US               |7               |240.44    |1683.08   |22.26          |21.1            |SAVE5      |apple_pay        |1             |1               |6462 Oak Ave          |Apt 206               |Phoenix      |AZ            |85003       |US              |overnight      |pending             |2024-02-26        |2021-11-12                        |(357) 651-6866        |pending               |\n",
      "|ddd321d1-8bb4-40af-b1cb-88a793f317ca|02:05:24             |4.82         |CUST_0021  |  james.lee@gmail.com         |James              |Lee               |60          |Other          |Austin       |TX            |PRD_126   |Asics Dresse Deluxe               |Apparel         |Dresses            |Asics         |87.04       |122.95            |WH_035      |San Antonio        |TX             |US               |9               |99.04     |891.36    |11.02          |6.2             |SAVE30     |debit_card       |no            |no              |7506 Elm Dr           |Apt 153|Apt 153_alt   |Austin       |TX            |78704       |US              |standard       |pending             |2024-01-28        |2023-08-05                        |(421) 931-1564        |pending               |\n",
      "|9d2f28e3-56cc-4d80-9ce2-4c48c6691a8d|17:20:54             |1.79         |CUST_0195  |michael.hall@gmail.com        |Michael            |Hall              |71          |F              |Boston       |MA            |PRD_371   |Yonex Cycling Sport               |Sports          |Cycling            |Yonex         |NULL        |159.65            |WH_027      |Philadelphia       |PA             |US               |5               |139.49    |697.45    |3.18           |21.8            |SAVE34     |google_pay       |true          |1               |937 Park Rd           |Apt 195               |Boston       |MA            |02107       |US              |standard       |success             |2024-01-08        |2021-03-14                        |(421) 652-1782        |success               |\n",
      "|a0dd5a86-5bbc-426c-88ed-ea6ae5ed6a4f|14:58:55|14:58:55_alt|6.5          |CUST_2315  |raymond.anderson@gmail.com    |Raymond            |Anderson          |76          |Other          |Jacksonville |FL            |PRD_426   |Tyson Meat Classic                |Groceries       |Meat               |Tyson         |3.32        |7.9               |WH_010      |Los Angeles        |CA             |US               |8               |8.94      |77.42     |11.03          |5.2             |SAVE7      |apple_3ay        |pending       |NULL            |7190 Elm Dr           |NULL                  |Jacksonville |FL            |32210       |US              |standard       |success             |2024-02-07        |2023-11-14                        |(856) 878-2684        |success               |\n",
      "|82ff968f-cb63-43a5-9eae-4e5b075e3990|19:37:33             |2.42         |CUST_1061  |kevin.hernandez@gmail.com     |Kevin              |Hernandez         |NULL        |M              |Baltimore    |MD            |PRD_367   |Wilson Cycling Deluxe             |Sports          |Cycling            |Wilson        |5.91        |10.92             |WH_041      |Dallas             |TX             |US               |2               |10.7      |21.4      |12.45          |21.0            |SAVE5      |paypal           |NULL          |yes             |1697 Park Rd          |Apt 690               |Baltimore    |MD            |21208       |US              |overnight      |failed              |2024-03-14        |2023-02-14                        |(906) 515-8274        |NULL                  |\n",
      "|1b9447c9-b731-4706-a119-8e92d6a5a0ab|03:26:09             |7.07         |CUST_0418  |thomas.moore@gmail.com        |Thomas             |Moore             |27          |Other          |Houston      |TX            |PRD_324   |Spalding Outdoor Gear             |Sports          |Outdoor Gear       |Spalding      |31.44       |53.77             |WH_020      |Houston            |TX             |US               |1               |62.84     |62.84     |18.27          |NULL            |  SAVE47   |debit_card       |false         |0               |2572 Cedar Ave        |Apt 958               |Houston      |TX|TX_alt     |00000-000   |US              |express        |success             |2024-03-17        |2022-01-22                        |(812) 204-1797        |success               |\n",
      "|531b8835-287e-4f89-b0c3-f54a53947195|18:37:48             |4.47         |CUST_2284  |frank.king@gmail.com          |Frank              |King              |71          |F              |Seattle      |WA            |PRD_473   |Organic Valley Frozen Food Classic|Groceries       |Frozen Foods       |Organic Valley|15.79       |21.48             |WH_046      |San Jose           |CA             |US               |2               |20.62     |41.24     |48.87          |13.1            |  SAVE39   |debit_card       |1             |NULL            |1571 Cedar Ave        |Apt 571               |Seattle      |WA            |98104       |US              |express        |failed              |2024-01-31        |2022-02-04                        |(985) 406-5091        |failed                |\n",
      "|da9d5a3c-4cf6-4dac-9c66-9dba1359869a|03:59:06             |2.59         |CUST_0378  |joseph.ramirez@gmail.com      |Joseph             |Ramirez           |70          |Other          |Seattle      |WA            |PRD_049   |Dell Tablet Plus                  |NULL            |Tablets            |Dell          |816.74      |1180.89           |WH_006      |Los Angeles        |CA             |US               |1               |1364.25   |1364.25   |7.99           |14.8            |  SAVE43   |debit_card       |yes           |true            |2997 Maple St         |apt 694               |Seattle      |WA            |98110       |US              |standard       |pending             |2024-03-25        |2024-02-21                        |(444) 404-2497        |pending               |\n",
      "|d5b34535-f721-4014-9026-f0c16db7f259|03:50:18             |1.99         |CUST_0458  |christopher.davis@gmail.com   |Christopher        |Davis             |38          |Other          |Nashville    |TN            |PRD_223   |Pampers First Aid Sport           |Healthcare      |First Aid          |Pampers       |102.68      |197.59            |WH_043      |Dallas             |TX             |US               |1               |181.09    |181.09    |NULL           |6.8             |NULL       |credit_card      |0             |false           |5576 Maple St         |APT 203               |Nashville    |TN            |37209       |US              |standard       |pending             |2024-03-07        |2021-11-13                        |(631) 228-1238        |pending               |\n",
      "|106c530a-fe07-4f50-9d18-dc40aa094fdd|11:56:26             |9.54         |CUST_0554  |daniel.brown@gmail.com        |Daniel             |Brown             |79          |Other          |San Antonio  |TX            |PRD_195   |Adidas Accessorie Classic         |Apparel         |Accessories        |Adidas        |71.57       |105.64            |WH_041      |Dallas             |TX             |US|US_alt        |3               |101.98    |305.94    |28.93          |23.7            |SAVE16     |apple_pay        |true          |true            |9017 Maple St         |Apt 957|Apt 957_alt   |San Antonio  |TX            |78201       |US              |express        |pending             |2024-02-08        |2022-09-25                        |(396) 896-2035        |failed                |\n",
      "|08c99f67-ee32-4476-b2cb-7c946ec7312c|20:31:36             |5.99         |CUST_0852  |paul.johnson@gmail.com        |Paul               |Johnson           |45          |F              |Phoenix      |AZ            |PRD_384   |Under Armour Nutrition            |Sports          |Nutrition          |Under Armour  |80.85       |183.32            |WH_022      |Phoenix            |AZ             |US               |5               |213.88    |1069.4    |20.94ERROR     |24.6            |SAVEx6     |google_pay       |NULL          |true            |8582 Park Rd          |Apt 302               |Phoenix      |AZ            |85008       |US              |express        |pending             |2024-01-23        |2021-03-06                        |(298) 880-3750        |failed                |\n",
      "+------------------------------------+---------------------+-------------+-----------+------------------------------+-------------------+------------------+------------+---------------+-------------+--------------+----------+----------------------------------+----------------+-------------------+--------------+------------+------------------+------------+-------------------+---------------+-----------------+----------------+----------+----------+---------------+----------------+-----------+-----------------+--------------+----------------+----------------------+----------------------+-------------+--------------+------------+----------------+---------------+--------------------+------------------+----------------------------------+----------------------+----------------------+\n",
      "only showing top 20 rows\n",
      "\n",
      "['success', 'failed', 'pending', None]\n"
     ]
    }
   ],
   "source": [
    "raw_payment_status = cleaned_phone_number_df.select(\"payment_status\").distinct().rdd.flatMap(lambda x: x).collect()\n",
    "print(raw_order_status)\n",
    "\n",
    "payment_status_lookup = spark.read.option(\"header\", \"true\").option(\"inferSchema\", \"true\").format(\"csv\").load(\"../lookup/payment_status.csv\")\n",
    "payment_status_lookup.show(truncate=False)\n",
    "\n",
    "cleaned_phone_number_df = cleaned_phone_number_df.withColumn(\"payment_status\", trim(col(\"payment_status\")))\n",
    "\n",
    "cleaned_payment_status_df = cleaned_phone_number_df.join(\n",
    "    broadcast(payment_status_lookup), \n",
    "    on=cleaned_phone_number_df.payment_status==payment_status_lookup.raw_value,\n",
    "    how=\"left\"\n",
    "    ).withColumnRenamed(\n",
    "        \"standard_value\", \"payment_status_cleaned\"\n",
    "        ).drop(\"raw_value\", \"payment_status\")\n",
    "\n",
    "cleaned_payment_status_df.show(truncate=False)\n",
    "\n",
    "cleaned_payment_status = cleaned_payment_status_df.select(\"payment_status_cleaned\").distinct().rdd.flatMap(lambda x: x).collect()\n",
    "print(cleaned_payment_status)\n",
    "\n"
   ]
  },
  {
   "cell_type": "markdown",
   "id": "1b301e39",
   "metadata": {},
   "source": [
    "### Clean payment method"
   ]
  },
  {
   "cell_type": "code",
   "execution_count": 10,
   "id": "5dced932",
   "metadata": {},
   "outputs": [
    {
     "name": "stdout",
     "output_type": "stream",
     "text": [
      "['  debit_card  ', 'google_pay', 'debit_#ard', 'google_pay   ', 'paypal', 'paypal|paypal_alt', 'go1gle_pay', 'APPLE_PAY', 'crxdit_card', '  google_pay  ', 'credyt_card', 'apple_pay', 'credit_card', 'cr2dit_card', 'ap#le_pay', 'apple_3ay', 'debit_card', '  credit_card  ', 'credit_card|credit_card_alt', 'googl@_pay', 'apple_pay   ', 'google_pay|google_pay_alt', 'GOOGLE_PAY', 'googly_pay', 'apple_pay|apple_pay_alt', 'apple_@ay', 'debit_card|debit_card_alt', 'app#e_pay', None]\n"
     ]
    }
   ],
   "source": [
    "raw_payment_methods = cleaned_payment_status_df.select(\"payment_method\").distinct().rdd.flatMap(lambda x: x).collect()\n",
    "print(raw_payment_methods)\n",
    "\n",
    "cleaned_payment_method_df = cleaned_payment_status_df.withColumn(\"payment_method\", trim(col(\"payment_method\")))\n",
    "\n"
   ]
  },
  {
   "cell_type": "code",
   "execution_count": null,
   "id": "bfeedfb8",
   "metadata": {},
   "outputs": [],
   "source": []
  }
 ],
 "metadata": {
  "kernelspec": {
   "display_name": "Python 3",
   "language": "python",
   "name": "python3"
  },
  "language_info": {
   "codemirror_mode": {
    "name": "ipython",
    "version": 3
   },
   "file_extension": ".py",
   "mimetype": "text/x-python",
   "name": "python",
   "nbconvert_exporter": "python",
   "pygments_lexer": "ipython3",
   "version": "3.10.11"
  }
 },
 "nbformat": 4,
 "nbformat_minor": 5
}
